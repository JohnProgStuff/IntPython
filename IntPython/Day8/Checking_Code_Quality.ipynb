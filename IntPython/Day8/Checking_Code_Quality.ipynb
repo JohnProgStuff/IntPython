{
 "cells": [
  {
   "cell_type": "markdown",
   "metadata": {},
   "source": [
    "# Check code quality with Pylint\n"
   ]
  },
  {
   "cell_type": "markdown",
   "metadata": {},
   "source": [
    "1. the quality of your code will improve if you follow the PEP8: Style Guide for Python Code.\n",
    "    - Code layout\n",
    "    - Whitespace\n",
    "    - Comments\n",
    "    - Naming Conventions\n",
    "2. Convention layout\n",
    "    - It is about readability\n",
    "    - Indentation: 4 spaces per level\n",
    "    - Line length: 79 characters\n",
    "    - Blank lines:\n",
    "        - 2 lines between top-level functions and classes\n",
    "        - 1 line between methods inside a class\n",
    "        - imports\n",
    "        \n",
    "3. \n",
    "4. \n"
   ]
  }
 ],
 "metadata": {
  "kernelspec": {
   "display_name": "Python 3",
   "language": "python",
   "name": "python3"
  },
  "language_info": {
   "codemirror_mode": {
    "name": "ipython",
    "version": 3
   },
   "file_extension": ".py",
   "mimetype": "text/x-python",
   "name": "python",
   "nbconvert_exporter": "python",
   "pygments_lexer": "ipython3",
   "version": "3.5.1"
  }
 },
 "nbformat": 4,
 "nbformat_minor": 2
}

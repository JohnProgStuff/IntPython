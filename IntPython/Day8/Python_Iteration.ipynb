{
 "cells": [
  {
   "cell_type": "markdown",
   "metadata": {},
   "source": [
    "# Python Iteration\n",
    "\n",
    "- iter() creates an iterator\n",
    "- next() get the element in the sequence\n",
    "- StopIteration signals end of the sequence\n",
    "Simple but very powerful.\n",
    "\n",
    "## Iterable\n",
    "An object which implements the **dunder-iter()** method which requires to return an iterator.\n",
    "\n",
    "First, we need to look at **iterators**\n",
    "\n",
    "## Iterator\n",
    "An object implementing the **iterable protocol**. The first part of the iterator is the iterable protocol.\n",
    "- All iterators **must** implemenet the **\\_\\_iter\\_\\_()** \n",
    "- Respond to the **\\_\\_next\\_\\_()** method."
   ]
  },
  {
   "cell_type": "code",
   "execution_count": 9,
   "metadata": {
    "collapsed": true
   },
   "outputs": [],
   "source": [
    "class ExampleIterator:\n",
    "    def __init__(self):\n",
    "        self.index = 0\n",
    "        self.data = [1, 2, 3]\n",
    "    \n",
    "    def __iter__(self):\n",
    "        return self\n",
    "    \n",
    "    def __next__(self):\n",
    "        if self.index >= len(self.data):\n",
    "            raise StopIteration()\n",
    "            \n",
    "        rslt = self.data[self.index]\n",
    "        self.index += 1\n",
    "        return rslt\n",
    "    \n",
    "    "
   ]
  },
  {
   "cell_type": "code",
   "execution_count": 11,
   "metadata": {},
   "outputs": [
    {
     "name": "stdout",
     "output_type": "stream",
     "text": [
      "1\n"
     ]
    }
   ],
   "source": [
    "i = ExampleIterator()\n",
    "print(next(i))"
   ]
  },
  {
   "cell_type": "code",
   "execution_count": 13,
   "metadata": {},
   "outputs": [
    {
     "name": "stdout",
     "output_type": "stream",
     "text": [
      "2\n"
     ]
    }
   ],
   "source": [
    "print(next(i))"
   ]
  },
  {
   "cell_type": "code",
   "execution_count": 12,
   "metadata": {},
   "outputs": [
    {
     "ename": "IndentationError",
     "evalue": "unexpected indent (<ipython-input-12-98e0947b842e>, line 2)",
     "output_type": "error",
     "traceback": [
      "\u001b[1;36m  File \u001b[1;32m\"<ipython-input-12-98e0947b842e>\"\u001b[1;36m, line \u001b[1;32m2\u001b[0m\n\u001b[1;33m    print(i)\u001b[0m\n\u001b[1;37m    ^\u001b[0m\n\u001b[1;31mIndentationError\u001b[0m\u001b[1;31m:\u001b[0m unexpected indent\n"
     ]
    }
   ],
   "source": [
    "#for i in ExampleIterator():\n",
    "    print(i)"
   ]
  },
  {
   "cell_type": "code",
   "execution_count": 5,
   "metadata": {
    "collapsed": true
   },
   "outputs": [],
   "source": [
    "# now, lets add some protocols\n"
   ]
  },
  {
   "cell_type": "code",
   "execution_count": 25,
   "metadata": {},
   "outputs": [],
   "source": [
    "class ExampleIterator:\n",
    "    def __init__(self, data):\n",
    "        self.index = 0\n",
    "        self.data = data\n",
    "    \n",
    "    def __iter__(self):\n",
    "        return self\n",
    "    \n",
    "    def __next__(self):\n",
    "        if self.index >= len(self.data):\n",
    "            raise StopIteration()\n",
    "            \n",
    "        rslt = self.data[self.index]\n",
    "        self.index += 1\n",
    "        return rslt\n",
    "    \n",
    "class ExampleIterable:\n",
    "    def __init__(self):\n",
    "        self.data = [1, 2, 3, 4, 5]\n",
    "        \n",
    "    def __iter__(self):\n",
    "        return ExampleIterator(self.data)\n"
   ]
  },
  {
   "cell_type": "code",
   "execution_count": 26,
   "metadata": {},
   "outputs": [
    {
     "name": "stdout",
     "output_type": "stream",
     "text": [
      "1\n",
      "2\n",
      "3\n",
      "4\n",
      "5\n"
     ]
    }
   ],
   "source": [
    "for i in ExampleIterable():\n",
    "    print(i)"
   ]
  },
  {
   "cell_type": "code",
   "execution_count": 27,
   "metadata": {},
   "outputs": [
    {
     "data": {
      "text/plain": [
       "[1.5, 3.0, 4.5, 6.0, 7.5]"
      ]
     },
     "execution_count": 27,
     "metadata": {},
     "output_type": "execute_result"
    }
   ],
   "source": [
    "# Just like a comprehension\n",
    "[(i * 3)/2 for i in ExampleIterable()]"
   ]
  },
  {
   "cell_type": "markdown",
   "metadata": {},
   "source": [
    "Note: you can construct your own iterables and iterators"
   ]
  },
  {
   "cell_type": "markdown",
   "metadata": {},
   "source": [
    "## Extended iter() format\n",
    "General form: **iter(callable, sentinel)**\n",
    "\n",
    "normally **iter()** is called on objects that support the **dunder-iter** method of the iterable, but iter() supports two argument calling for, which do not directly support the iterable protocol.\n",
    "- First arg is callable which takes zero arguments.\n",
    "- Second arg is a sentinel value\n",
    "- The return value from iter() is in this case an iterator shich produces values by repeatedly calling the callable argument. It terminates when it hits the sentinel value.\n",
    "\n",
    "Extended iter() is often used for creating **infinite sequences** from existing function.\n"
   ]
  },
  {
   "cell_type": "code",
   "execution_count": null,
   "metadata": {
    "collapsed": true
   },
   "outputs": [],
   "source": []
  },
  {
   "cell_type": "code",
   "execution_count": null,
   "metadata": {
    "collapsed": true
   },
   "outputs": [],
   "source": []
  },
  {
   "cell_type": "code",
   "execution_count": null,
   "metadata": {
    "collapsed": true
   },
   "outputs": [],
   "source": []
  },
  {
   "cell_type": "code",
   "execution_count": null,
   "metadata": {
    "collapsed": true
   },
   "outputs": [],
   "source": []
  },
  {
   "cell_type": "markdown",
   "metadata": {},
   "source": [
    "### Another Example\n",
    "\n",
    "Real world iterable example: Sensor Data\n",
    "\n",
    "Write a class that mimics a sensor, and it produces a stream of data. We are going to simulate the sensor with random values within a range.\n"
   ]
  },
  {
   "cell_type": "code",
   "execution_count": 28,
   "metadata": {
    "collapsed": true
   },
   "outputs": [],
   "source": [
    "import datetime\n",
    "import itertools\n",
    "import random\n",
    "import time\n",
    "\n",
    "class Sensor:\n",
    "    def __iter__(self):\n",
    "        return self\n",
    "    \n",
    "    def __next__(self):\n",
    "        return random.random()\n"
   ]
  },
  {
   "cell_type": "code",
   "execution_count": 33,
   "metadata": {},
   "outputs": [
    {
     "name": "stdout",
     "output_type": "stream",
     "text": [
      "2017-05-25 09:06:43.168939  :  0.10176475199600865\n",
      "2017-05-25 09:06:44.174100  :  0.3303597001364208\n",
      "2017-05-25 09:06:45.187556  :  0.927439969728327\n",
      "2017-05-25 09:06:46.195508  :  0.363996800097083\n",
      "2017-05-25 09:06:47.202252  :  0.5193487397307929\n",
      "2017-05-25 09:06:48.204797  :  0.5049503100127094\n",
      "2017-05-25 09:06:49.212156  :  0.09332556825060945\n",
      "2017-05-25 09:06:50.217419  :  0.8167974712253887\n",
      "2017-05-25 09:06:51.219006  :  0.9066050536460112\n",
      "2017-05-25 09:06:52.220572  :  0.6271732062441367\n",
      "2017-05-25 09:06:53.222467  :  0.7093541487559344\n",
      "2017-05-25 09:06:54.226243  :  0.9389700985866551\n",
      "2017-05-25 09:06:55.241483  :  0.13183651950985842\n",
      "2017-05-25 09:06:56.248958  :  0.009269572871202225\n",
      "2017-05-25 09:06:57.251959  :  0.3142132849026702\n",
      "2017-05-25 09:06:58.261289  :  0.7548169582552752\n",
      "2017-05-25 09:06:59.267840  :  0.6072796709314248\n",
      "2017-05-25 09:07:00.276916  :  0.7430847483621709\n",
      "2017-05-25 09:07:01.280108  :  0.49966740509817353\n",
      "2017-05-25 09:07:02.281102  :  0.38568001207526015\n"
     ]
    }
   ],
   "source": [
    "sensor = Sensor()\n",
    "timestamps = iter(datetime.datetime.now, None)\n",
    "for stamp, value in itertools.islice(zip(timestamps, sensor), 20):\n",
    "    print(stamp, \" : \", value)\n",
    "    time.sleep(1)"
   ]
  },
  {
   "cell_type": "markdown",
   "metadata": {},
   "source": [
    "# implementing collections\n",
    "Basic Collections:\n",
    "- list\n",
    "- dict\n",
    "- set\n",
    "- tuple\n",
    "- set\n",
    "- range\n",
    "\n",
    "### SortedSet\n",
    "To define your own, you need to incorporate to your class a set of new protocols:\n",
    "1. Container: Membership testing using **in** and **not in**\n",
    "2. Sized: Determine number of elements **len()**\n",
    "3. Iterable: Can produce an iterator with **iter()**. *for item in iterable: do_something*\n",
    "4. Sequence:\n",
    "    - Retrieve elements by index: item = seq[index]\n",
    "    - find items by value: index = seq.index(item)\n",
    "    - Count items: num=seq.count(item)\n",
    "    - Produce a reverse sequence: r= reversed(seq)\n",
    "5. Set:\n",
    "    - Set algebra operations (method and inflix operations)\n",
    "    - subset, proper subset, equal, not equal, superset, intersections, union, symmetric differences, differences.\n",
    "6. Mutable sequence: ...\n",
    "7. Mutable Set: ...\n",
    "8. Mutable Mapping: ..."
   ]
  },
  {
   "cell_type": "markdown",
   "metadata": {},
   "source": [
    "## Collection Constructor\n",
    "Build a **SortedSet**. A collection  which is a **sized, iterable, sequence container** of a set of distinct items and constructible from an iterable. \n",
    "\n",
    "Follow simple **Test Driven Development (TDD)**<br>\n",
    "\n",
    "Note: Code in Pycharm Day8"
   ]
  },
  {
   "cell_type": "markdown",
   "metadata": {},
   "source": [
    "##Construction Convention\n",
    "collection_from_iterable = Collection(iterable)\n",
    "empty_collection = Collection()<br>\n"
   ]
  },
  {
   "cell_type": "markdown",
   "metadata": {},
   "source": [
    "## The Container Protocol\n",
    "The first container we will implement is the **container protocol**.\n",
    "This is the most fundamental of the collection protocols and simply allow us to determine whether a particular item is present in it.\n",
    " - Membership testing using **in** and **not in** (inflix operations)\n",
    " - Special methods: **\\_\\_containing\\_\\_(item)**\n",
    " - Fallback to iterable protocol"
   ]
  },
  {
   "cell_type": "code",
   "execution_count": null,
   "metadata": {
    "collapsed": true
   },
   "outputs": [],
   "source": []
  }
 ],
 "metadata": {
  "kernelspec": {
   "display_name": "Python 3",
   "language": "python",
   "name": "python3"
  },
  "language_info": {
   "codemirror_mode": {
    "name": "ipython",
    "version": 3
   },
   "file_extension": ".py",
   "mimetype": "text/x-python",
   "name": "python",
   "nbconvert_exporter": "python",
   "pygments_lexer": "ipython3",
   "version": "3.5.1"
  }
 },
 "nbformat": 4,
 "nbformat_minor": 2
}

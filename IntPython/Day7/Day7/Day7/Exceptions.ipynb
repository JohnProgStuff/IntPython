{
 "cells": [
  {
   "cell_type": "markdown",
   "metadata": {},
   "source": [
    "## Chaining Exceptions\n",
    "1. When handling an exception, another exception occurs (**Implicit Chaining**)\n",
    "    - An exception occurs while another is being handle\n",
    "    - Python will associate the new exception with the old one. Using the **dunder-context** magic method\n",
    "2. Deliberately handle an exception by translating into a different exception type (**Explicit Chaining**)\n",
    "    - Handle by the **dunder-cause** magic method\n",
    "    \n",
    "You want to keep the information from the original exception. It can help you avoid unnecessary duplication of information, and it helps with diagnostic. "
   ]
  },
  {
   "cell_type": "markdown",
   "metadata": {},
   "source": [
    "## Tracebacks\n",
    "Remember everything in Python in an object. It creates traceback to send to the function call stack which then are printed by the interpreter when an exception is unhandled. \n",
    "\n",
    "Python 3 has **dunder-traceback** special attribute which contains a reference to the traceback object associated with that exception. "
   ]
  },
  {
   "cell_type": "markdown",
   "metadata": {},
   "source": [
    "## Assertions: Internal Invariants\n",
    "You can check your code with assertions. It will help check exceptions more quickly. \n",
    "\n",
    "General Form: **assertion condition [,message]**\n",
    "- condition is a Boolean expression\n",
    "- message in an optional string for an error message\n",
    "- IF condition is **False** => AssertionError is raised\n",
    "- IF message is supplied, it is used as the exception payload"
   ]
  },
  {
   "cell_type": "code",
   "execution_count": 1,
   "metadata": {},
   "outputs": [
    {
     "ename": "AssertionError",
     "evalue": "The condition was false",
     "output_type": "error",
     "traceback": [
      "\u001b[1;31m---------------------------------------------------------------------------\u001b[0m",
      "\u001b[1;31mAssertionError\u001b[0m                            Traceback (most recent call last)",
      "\u001b[1;32m<ipython-input-1-5eb65c34ea60>\u001b[0m in \u001b[0;36m<module>\u001b[1;34m()\u001b[0m\n\u001b[1;32m----> 1\u001b[1;33m \u001b[1;32massert\u001b[0m \u001b[1;32mFalse\u001b[0m\u001b[1;33m,\u001b[0m \u001b[1;34m'The condition was false'\u001b[0m\u001b[1;33m\u001b[0m\u001b[0m\n\u001b[0m",
      "\u001b[1;31mAssertionError\u001b[0m: The condition was false"
     ]
    }
   ],
   "source": [
    "assert False, 'The condition was false'"
   ]
  },
  {
   "cell_type": "markdown",
   "metadata": {},
   "source": [
    "Convenient way to monitor the program invariant, which are conditions which should always be true for your program. If an assertion fails, it will always point to a **programming error**."
   ]
  },
  {
   "cell_type": "code",
   "execution_count": 2,
   "metadata": {
    "collapsed": true
   },
   "outputs": [],
   "source": [
    "# The statement has not effect\n",
    "assert 5 > 2, \"You are in a defective universe\""
   ]
  },
  {
   "cell_type": "markdown",
   "metadata": {},
   "source": [
    "Assertions are best used to document any assumptions \n",
    "- you code makes such as a name being bound to an object rather than None\n",
    "- a list being sorted at a particular point in the program\n",
    "\n",
    "There are many good and bad places to use assertions in your programs. "
   ]
  },
  {
   "cell_type": "code",
   "execution_count": 3,
   "metadata": {
    "collapsed": true
   },
   "outputs": [],
   "source": [
    "def modulus_three(n):\n",
    "    r = n % 3\n",
    "    if r == 0:\n",
    "        print(\"Multiple of 3\")\n",
    "    elif r == 1:\n",
    "        print(\"Remainder 1\")\n",
    "    else: # r == 2\n",
    "        print('Remainder 2')"
   ]
  },
  {
   "cell_type": "code",
   "execution_count": 4,
   "metadata": {
    "collapsed": true
   },
   "outputs": [],
   "source": [
    "def modulus_three(n):\n",
    "    r = n % 3\n",
    "    if r == 0:\n",
    "        print(\"Multiple of 3\")\n",
    "    elif r == 1:\n",
    "        print(\"Remainder 1\")\n",
    "    else: \n",
    "        assert r == 2, \"Remainder is not 2\"\n",
    "        print('Remainder 2')"
   ]
  },
  {
   "cell_type": "code",
   "execution_count": 5,
   "metadata": {},
   "outputs": [
    {
     "name": "stdout",
     "output_type": "stream",
     "text": [
      "Multiple of 3\n"
     ]
    }
   ],
   "source": [
    "modulus_three(3)"
   ]
  },
  {
   "cell_type": "code",
   "execution_count": 6,
   "metadata": {},
   "outputs": [
    {
     "name": "stdout",
     "output_type": "stream",
     "text": [
      "Remainder 2\n"
     ]
    }
   ],
   "source": [
    "modulus_three(5)"
   ]
  },
  {
   "cell_type": "markdown",
   "metadata": {},
   "source": [
    "Small overhead, compare to huge benefits they bring in helping us build correct program\n",
    "\n",
    "Particularly helpful when people use **clone and modifier programming**. When new code is based on exisiting code that has been adjusted correctly or not to serve a purpose"
   ]
  },
  {
   "cell_type": "code",
   "execution_count": 7,
   "metadata": {
    "collapsed": true
   },
   "outputs": [],
   "source": [
    "def modulus_four(n):\n",
    "    r = n % 4\n",
    "    if r == 0:\n",
    "        print(\"Multiple of 4\")\n",
    "    elif r == 1:\n",
    "        print(\"Remainder 1\")\n",
    "    else: \n",
    "        assert r == 2, \"Remainder is not 2\"\n",
    "        print('Remainder 2')"
   ]
  },
  {
   "cell_type": "code",
   "execution_count": 8,
   "metadata": {},
   "outputs": [
    {
     "name": "stdout",
     "output_type": "stream",
     "text": [
      "Multiple of 4\n"
     ]
    }
   ],
   "source": [
    "modulus_four(4)"
   ]
  },
  {
   "cell_type": "code",
   "execution_count": 9,
   "metadata": {},
   "outputs": [
    {
     "ename": "AssertionError",
     "evalue": "Remainder is not 2",
     "output_type": "error",
     "traceback": [
      "\u001b[1;31m---------------------------------------------------------------------------\u001b[0m",
      "\u001b[1;31mAssertionError\u001b[0m                            Traceback (most recent call last)",
      "\u001b[1;32m<ipython-input-9-8961af467584>\u001b[0m in \u001b[0;36m<module>\u001b[1;34m()\u001b[0m\n\u001b[1;32m----> 1\u001b[1;33m \u001b[0mmodulus_four\u001b[0m\u001b[1;33m(\u001b[0m\u001b[1;36m3\u001b[0m\u001b[1;33m)\u001b[0m\u001b[1;33m\u001b[0m\u001b[0m\n\u001b[0m",
      "\u001b[1;32m<ipython-input-7-9aa2258f50a1>\u001b[0m in \u001b[0;36mmodulus_four\u001b[1;34m(n)\u001b[0m\n\u001b[0;32m      6\u001b[0m         \u001b[0mprint\u001b[0m\u001b[1;33m(\u001b[0m\u001b[1;34m\"Remainder 1\"\u001b[0m\u001b[1;33m)\u001b[0m\u001b[1;33m\u001b[0m\u001b[0m\n\u001b[0;32m      7\u001b[0m     \u001b[1;32melse\u001b[0m\u001b[1;33m:\u001b[0m\u001b[1;33m\u001b[0m\u001b[0m\n\u001b[1;32m----> 8\u001b[1;33m         \u001b[1;32massert\u001b[0m \u001b[0mr\u001b[0m \u001b[1;33m==\u001b[0m \u001b[1;36m2\u001b[0m\u001b[1;33m,\u001b[0m \u001b[1;34m\"Remainder is not 2\"\u001b[0m\u001b[1;33m\u001b[0m\u001b[0m\n\u001b[0m\u001b[0;32m      9\u001b[0m         \u001b[0mprint\u001b[0m\u001b[1;33m(\u001b[0m\u001b[1;34m'Remainder 2'\u001b[0m\u001b[1;33m)\u001b[0m\u001b[1;33m\u001b[0m\u001b[0m\n",
      "\u001b[1;31mAssertionError\u001b[0m: Remainder is not 2"
     ]
    }
   ],
   "source": [
    "modulus_four(3)"
   ]
  },
  {
   "cell_type": "code",
   "execution_count": 13,
   "metadata": {
    "collapsed": true
   },
   "outputs": [],
   "source": [
    "def modulus_four(n):\n",
    "    r = n % 4\n",
    "    if r == 0:\n",
    "        print(\"Multiple of 4\")\n",
    "    elif r == 1:\n",
    "        print(\"Remainder 1\")\n",
    "    elif r == 2:\n",
    "        print(\"Remainder 2\")\n",
    "    elif r == 3:\n",
    "        print(\"Remainder 3\")\n",
    "    else: \n",
    "        assert False, \"This should never happen\""
   ]
  },
  {
   "cell_type": "code",
   "execution_count": 14,
   "metadata": {},
   "outputs": [
    {
     "name": "stdout",
     "output_type": "stream",
     "text": [
      "Multiple of 4\n",
      "Remainder 1\n",
      "Remainder 2\n",
      "Remainder 3\n"
     ]
    }
   ],
   "source": [
    "for i in range(4):\n",
    "    modulus_four(i)"
   ]
  },
  {
   "cell_type": "code",
   "execution_count": null,
   "metadata": {
    "collapsed": true
   },
   "outputs": [],
   "source": []
  }
 ],
 "metadata": {
  "kernelspec": {
   "display_name": "Python 3",
   "language": "python",
   "name": "python3"
  },
  "language_info": {
   "codemirror_mode": {
    "name": "ipython",
    "version": 3
   },
   "file_extension": ".py",
   "mimetype": "text/x-python",
   "name": "python",
   "nbconvert_exporter": "python",
   "pygments_lexer": "ipython3",
   "version": "3.5.1"
  }
 },
 "nbformat": 4,
 "nbformat_minor": 2
}

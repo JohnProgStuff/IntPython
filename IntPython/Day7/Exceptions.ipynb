{
 "cells": [
  {
   "cell_type": "markdown",
   "metadata": {
    "collapsed": true
   },
   "source": [
    "## Chaining Exceptions\n",
    "1. When handling an exception, another exception occurs (**Implicit Chaining**)\n",
    " - An exception occurs while another is being handled\n",
    " - Python will associate the new exception with the old one. Using the **dunder-context** magic method\n",
    "2. Deliberately handle an exception by translating into a different exception type(**Explicit Chaining**)\n",
    " - Handle by the **dunder-cause** magic method\n",
    " \n",
    "You want to keep the information from the original exception. It can help you avoid unnecessary duplication of information, and it helps with diagnostic."
   ]
  },
  {
   "cell_type": "markdown",
   "metadata": {},
   "source": [
    "## Tracebacks\n",
    "Remember that everything in Python is an object. It creates tracebacks to send to the function call stack which then are printed by the interpreter when an exception is unhandled.\n",
    "\n",
    "Python3 has **dunder-traceback** special attribute which contains a reference to the traceback object associated with that exception."
   ]
  },
  {
   "cell_type": "markdown",
   "metadata": {},
   "source": [
    "## Assertions: Internal Invariants\n",
    "You can check your code with assertions. It will help check exceptions more quickly.\n",
    "\n",
    "General Form: **assertion condition [,message]**\n",
    " - condition is a Boolean expression\n",
    " - message is an optional string for an error message\n",
    " - IF condition is **False** => AssertionError is raised\n",
    " - IF message is supplied, it is used as the exception payload\n"
   ]
  },
  {
   "cell_type": "code",
   "execution_count": 1,
   "metadata": {},
   "outputs": [
    {
     "ename": "AssertionError",
     "evalue": "The condition was false",
     "output_type": "error",
     "traceback": [
      "\u001b[1;31m---------------------------------------------------------------------------\u001b[0m",
      "\u001b[1;31mAssertionError\u001b[0m                            Traceback (most recent call last)",
      "\u001b[1;32m<ipython-input-1-5eb65c34ea60>\u001b[0m in \u001b[0;36m<module>\u001b[1;34m()\u001b[0m\n\u001b[1;32m----> 1\u001b[1;33m \u001b[1;32massert\u001b[0m \u001b[1;32mFalse\u001b[0m\u001b[1;33m,\u001b[0m \u001b[1;34m'The condition was false'\u001b[0m\u001b[1;33m\u001b[0m\u001b[0m\n\u001b[0m",
      "\u001b[1;31mAssertionError\u001b[0m: The condition was false"
     ]
    }
   ],
   "source": [
    "assert False, 'The condition was false'"
   ]
  },
  {
   "cell_type": "markdown",
   "metadata": {},
   "source": [
    "Convenient way to monitor the program invariant, which are conditions which should always be true for your program. If an assertion fails, it will always point to a **programming error**"
   ]
  },
  {
   "cell_type": "code",
   "execution_count": 2,
   "metadata": {
    "collapsed": true
   },
   "outputs": [],
   "source": [
    "# this statement has no effect\n",
    "assert 5 > 2, 'you are in a defective universe'"
   ]
  },
  {
   "cell_type": "markdown",
   "metadata": {},
   "source": [
    "Assertions are best used to document any assumptions \n",
    " - your code makes such as a name being bound to an object rather than None.\n",
    " - a list being sorted at a particular point in the program \n",
    " \n",
    "There are many good and bad places to use assertions in your programs.\n"
   ]
  },
  {
   "cell_type": "code",
   "execution_count": 3,
   "metadata": {
    "collapsed": true
   },
   "outputs": [],
   "source": [
    "def modulus_three(n):\n",
    "    r = n % 3\n",
    "    if r == 0:\n",
    "        print(\"Multiple of 3\")\n",
    "    elif r == 1:\n",
    "        print(\"Remainder 1\")\n",
    "    else:\n",
    "        print(\"Remainder 2\")\n",
    "        \n",
    "        "
   ]
  },
  {
   "cell_type": "code",
   "execution_count": 4,
   "metadata": {},
   "outputs": [
    {
     "ename": "SyntaxError",
     "evalue": "invalid syntax (<ipython-input-4-940b92170192>, line 1)",
     "output_type": "error",
     "traceback": [
      "\u001b[1;36m  File \u001b[1;32m\"<ipython-input-4-940b92170192>\"\u001b[1;36m, line \u001b[1;32m1\u001b[0m\n\u001b[1;33m    Missing NOTES\u001b[0m\n\u001b[1;37m                ^\u001b[0m\n\u001b[1;31mSyntaxError\u001b[0m\u001b[1;31m:\u001b[0m invalid syntax\n"
     ]
    }
   ],
   "source": [
    "Missing NOTES"
   ]
  },
  {
   "cell_type": "code",
   "execution_count": 5,
   "metadata": {
    "collapsed": true
   },
   "outputs": [],
   "source": [
    "def modulus_four(n):\n",
    "    r = n % 4\n",
    "    if r == 0:\n",
    "        print(\"Multiple of 4\")\n",
    "    elif r == 1:\n",
    "        print(\"Remainder 1\")\n",
    "    else:\n",
    "        assert r == 2, \"Remainder is not 2\"\n",
    "        print(\"Remainder 2\")\n",
    "        \n",
    "        "
   ]
  },
  {
   "cell_type": "code",
   "execution_count": 6,
   "metadata": {},
   "outputs": [
    {
     "name": "stdout",
     "output_type": "stream",
     "text": [
      "Multiple of 4\n"
     ]
    }
   ],
   "source": [
    "modulus_four(4)"
   ]
  },
  {
   "cell_type": "code",
   "execution_count": 7,
   "metadata": {},
   "outputs": [
    {
     "ename": "AssertionError",
     "evalue": "Remainder is not 2",
     "output_type": "error",
     "traceback": [
      "\u001b[1;31m---------------------------------------------------------------------------\u001b[0m",
      "\u001b[1;31mAssertionError\u001b[0m                            Traceback (most recent call last)",
      "\u001b[1;32m<ipython-input-7-8961af467584>\u001b[0m in \u001b[0;36m<module>\u001b[1;34m()\u001b[0m\n\u001b[1;32m----> 1\u001b[1;33m \u001b[0mmodulus_four\u001b[0m\u001b[1;33m(\u001b[0m\u001b[1;36m3\u001b[0m\u001b[1;33m)\u001b[0m\u001b[1;33m\u001b[0m\u001b[0m\n\u001b[0m",
      "\u001b[1;32m<ipython-input-5-f09eba31ee90>\u001b[0m in \u001b[0;36mmodulus_four\u001b[1;34m(n)\u001b[0m\n\u001b[0;32m      6\u001b[0m         \u001b[0mprint\u001b[0m\u001b[1;33m(\u001b[0m\u001b[1;34m\"Remainder 1\"\u001b[0m\u001b[1;33m)\u001b[0m\u001b[1;33m\u001b[0m\u001b[0m\n\u001b[0;32m      7\u001b[0m     \u001b[1;32melse\u001b[0m\u001b[1;33m:\u001b[0m\u001b[1;33m\u001b[0m\u001b[0m\n\u001b[1;32m----> 8\u001b[1;33m         \u001b[1;32massert\u001b[0m \u001b[0mr\u001b[0m \u001b[1;33m==\u001b[0m \u001b[1;36m2\u001b[0m\u001b[1;33m,\u001b[0m \u001b[1;34m\"Remainder is not 2\"\u001b[0m\u001b[1;33m\u001b[0m\u001b[0m\n\u001b[0m\u001b[0;32m      9\u001b[0m         \u001b[0mprint\u001b[0m\u001b[1;33m(\u001b[0m\u001b[1;34m\"Remainder 2\"\u001b[0m\u001b[1;33m)\u001b[0m\u001b[1;33m\u001b[0m\u001b[0m\n\u001b[0;32m     10\u001b[0m \u001b[1;33m\u001b[0m\u001b[0m\n",
      "\u001b[1;31mAssertionError\u001b[0m: Remainder is not 2"
     ]
    }
   ],
   "source": [
    "modulus_four(3)"
   ]
  },
  {
   "cell_type": "code",
   "execution_count": 14,
   "metadata": {
    "collapsed": true
   },
   "outputs": [],
   "source": [
    "def modulus_four(n):\n",
    "    r = n % 4\n",
    "    if r == 0:\n",
    "        print(\"Multiple of 4\")\n",
    "    elif r == 1:\n",
    "        print(\"Remainder 1\")\n",
    "    elif r == 2:\n",
    "        print(\"Remainder 2\")\n",
    "    elif r == 3:\n",
    "        print(\"Remainder 3\")\n",
    "    else:\n",
    "        assert False, \"Should never happen\"\n",
    "       \n",
    "        "
   ]
  },
  {
   "cell_type": "code",
   "execution_count": 15,
   "metadata": {},
   "outputs": [
    {
     "name": "stdout",
     "output_type": "stream",
     "text": [
      "Remainder 2\n"
     ]
    }
   ],
   "source": [
    "modulus_four(2)\n"
   ]
  },
  {
   "cell_type": "code",
   "execution_count": 16,
   "metadata": {},
   "outputs": [
    {
     "name": "stdout",
     "output_type": "stream",
     "text": [
      "Remainder 2\n"
     ]
    }
   ],
   "source": [
    "modulus_four(6)"
   ]
  },
  {
   "cell_type": "code",
   "execution_count": 17,
   "metadata": {},
   "outputs": [
    {
     "name": "stdout",
     "output_type": "stream",
     "text": [
      "Multiple of 4\n",
      "Remainder 1\n",
      "Remainder 2\n",
      "Remainder 3\n"
     ]
    }
   ],
   "source": [
    "for i in range(4):\n",
    "    modulus_four(i)"
   ]
  },
  {
   "cell_type": "markdown",
   "metadata": {},
   "source": [
    "# Iterables and iterations\n",
    "\n",
    "Let's go into deeper look at **iterable and iteration** in Python including topics such as:\n",
    "\n",
    " - advanced comprehensions\n",
    " - functional style tools\n",
    " - protocols underlying iteration\n",
    " \n",
    "This is going to help write more expressive, elegant, and even beautiful code."
   ]
  },
  {
   "cell_type": "markdown",
   "metadata": {},
   "source": [
    "# Comprehensions\n",
    "Short-hand syntax for creating collections and iterable objects<br>\n",
    "Types of Comprehensions:\n",
    " - list comprehensions\n",
    " - set comprehensions\n",
    " - dict comprehensions\n",
    " \n",
    "### List Comprehension\n",
    "General Form List Comprehension: **[expr(item) for item in iterable]**"
   ]
  },
  {
   "cell_type": "code",
   "execution_count": 18,
   "metadata": {},
   "outputs": [
    {
     "data": {
      "text/plain": [
       "[0, 2, 4, 6, 8, 10, 12, 14, 16, 18]"
      ]
     },
     "execution_count": 18,
     "metadata": {},
     "output_type": "execute_result"
    }
   ],
   "source": [
    "# Each value is 2 times the value of the original sequence\n",
    "l = [i*2 for i in range(10)]\n",
    "l\n"
   ]
  },
  {
   "cell_type": "code",
   "execution_count": 19,
   "metadata": {},
   "outputs": [
    {
     "data": {
      "text/plain": [
       "list"
      ]
     },
     "execution_count": 19,
     "metadata": {},
     "output_type": "execute_result"
    }
   ],
   "source": [
    "# this is a new list, just like any other\n",
    "type(l)"
   ]
  },
  {
   "cell_type": "code",
   "execution_count": 22,
   "metadata": {},
   "outputs": [
    {
     "data": {
      "text/plain": [
       "['__add__',\n",
       " '__class__',\n",
       " '__contains__',\n",
       " '__delattr__',\n",
       " '__delitem__',\n",
       " '__dir__',\n",
       " '__doc__',\n",
       " '__eq__',\n",
       " '__format__',\n",
       " '__ge__',\n",
       " '__getattribute__',\n",
       " '__getitem__',\n",
       " '__gt__',\n",
       " '__hash__',\n",
       " '__iadd__',\n",
       " '__imul__',\n",
       " '__init__',\n",
       " '__iter__',\n",
       " '__le__',\n",
       " '__len__',\n",
       " '__lt__',\n",
       " '__mul__',\n",
       " '__ne__',\n",
       " '__new__',\n",
       " '__reduce__',\n",
       " '__reduce_ex__',\n",
       " '__repr__',\n",
       " '__reversed__',\n",
       " '__rmul__',\n",
       " '__setattr__',\n",
       " '__setitem__',\n",
       " '__sizeof__',\n",
       " '__str__',\n",
       " '__subclasshook__',\n",
       " 'append',\n",
       " 'clear',\n",
       " 'copy',\n",
       " 'count',\n",
       " 'extend',\n",
       " 'index',\n",
       " 'insert',\n",
       " 'pop',\n",
       " 'remove',\n",
       " 'reverse',\n",
       " 'sort']"
      ]
     },
     "execution_count": 22,
     "metadata": {},
     "output_type": "execute_result"
    }
   ],
   "source": [
    "# Get all methods\n",
    "dir(l)\n",
    "# help(l)"
   ]
  },
  {
   "cell_type": "markdown",
   "metadata": {},
   "source": [
    "### Dictionary Comprehensions\n",
    "General form: **{key_expr:value_expr for item in iterable}**"
   ]
  },
  {
   "cell_type": "code",
   "execution_count": 23,
   "metadata": {},
   "outputs": [
    {
     "name": "stdout",
     "output_type": "stream",
     "text": [
      "<class 'dict'>\n",
      "{0: 0, 1: 2, 2: 4, 3: 6, 4: 8, 5: 10, 6: 12, 7: 14, 8: 16, 9: 18}\n"
     ]
    }
   ],
   "source": [
    "d = {i: i*2 for i in range(10)}\n",
    "print(type(d))\n",
    "print(d)"
   ]
  },
  {
   "cell_type": "markdown",
   "metadata": {},
   "source": [
    "### Set Comprehensions\n",
    "General Form: **{expr(item) for item in iterable}**"
   ]
  },
  {
   "cell_type": "code",
   "execution_count": 27,
   "metadata": {},
   "outputs": [
    {
     "name": "stdout",
     "output_type": "stream",
     "text": [
      "<class 'set'>\n",
      "{0, 2, 4, 6, 8, 10, 12, 14, 16, 18}\n"
     ]
    }
   ],
   "source": [
    "f = {i*2 for i in range(10)}\n",
    "print(type(f))\n",
    "print(f)"
   ]
  },
  {
   "cell_type": "markdown",
   "metadata": {},
   "source": [
    "## Generator Comprehensions\n",
    "General Form: **(item for item in iterable)**\n",
    "\n",
    "Generator returns an object on which you can call **next** such that for every call it returns some value, until it raises **StopIterator** exception, which signals that all values have been generated. Such object is called an **iterator**.\n",
    "\n",
    "Regular functions return a single value using **return**<br>\n",
    "In Python, you can use **yield**. Using **yield** anywhere in a function makes it a **generator**"
   ]
  },
  {
   "cell_type": "code",
   "execution_count": 28,
   "metadata": {},
   "outputs": [
    {
     "name": "stdout",
     "output_type": "stream",
     "text": [
      "<class 'generator'>\n",
      "<generator object <genexpr> at 0x00000292248C5C50>\n"
     ]
    }
   ],
   "source": [
    "g = (i for i in range(5))\n",
    "print(type(g))\n",
    "print(g)\n",
    "# help(g)"
   ]
  },
  {
   "cell_type": "markdown",
   "metadata": {},
   "source": [
    "## Multiple if-clauses\n",
    "\n",
    "Comprehensions can use multiple input sequences and multiple if-clauses"
   ]
  },
  {
   "cell_type": "code",
   "execution_count": 29,
   "metadata": {},
   "outputs": [
    {
     "data": {
      "text/plain": [
       "[(0, 0),\n",
       " (0, 1),\n",
       " (0, 2),\n",
       " (0, 3),\n",
       " (1, 0),\n",
       " (1, 1),\n",
       " (1, 2),\n",
       " (1, 3),\n",
       " (2, 0),\n",
       " (2, 1),\n",
       " (2, 2),\n",
       " (2, 3)]"
      ]
     },
     "execution_count": 29,
     "metadata": {},
     "output_type": "execute_result"
    }
   ],
   "source": [
    "# This comprehension uses two input ranges to create a set of points\n",
    "# on a 3x4 grid giving us a list containing Cartesian product of them\n",
    "[(x, y) for x in range(3) for y in range(4)]"
   ]
  },
  {
   "cell_type": "markdown",
   "metadata": {},
   "source": [
    "Read it as a set of nested for loops where the later**for-clause** (for y in range(4)) are nestted inside the earlier one (for x in range(3))\n",
    "\n",
    "For the above example. the corresponding **for loop** structure is as follows:"
   ]
  },
  {
   "cell_type": "code",
   "execution_count": 31,
   "metadata": {},
   "outputs": [
    {
     "data": {
      "text/plain": [
       "[(0, 0),\n",
       " (0, 1),\n",
       " (0, 2),\n",
       " (0, 3),\n",
       " (1, 0),\n",
       " (1, 1),\n",
       " (1, 2),\n",
       " (1, 3),\n",
       " (2, 0),\n",
       " (2, 1),\n",
       " (2, 2),\n",
       " (2, 3)]"
      ]
     },
     "execution_count": 31,
     "metadata": {},
     "output_type": "execute_result"
    }
   ],
   "source": [
    "# more traditional way\n",
    "points = []\n",
    "for x in range(3):\n",
    "    for y in range(4):\n",
    "        points.append((x,y))\n",
    "        \n",
    "#display info\n",
    "points"
   ]
  },
  {
   "cell_type": "markdown",
   "metadata": {},
   "source": [
    "### Benefits of Comprehensions\n",
    " - Container populated \"atomically\"\n",
    " - Allows Python oto optimize creation\n",
    " - More readable"
   ]
  },
  {
   "cell_type": "code",
   "execution_count": null,
   "metadata": {
    "collapsed": true
   },
   "outputs": [],
   "source": []
  }
 ],
 "metadata": {
  "kernelspec": {
   "display_name": "Python 3",
   "language": "python",
   "name": "python3"
  },
  "language_info": {
   "codemirror_mode": {
    "name": "ipython",
    "version": 3
   },
   "file_extension": ".py",
   "mimetype": "text/x-python",
   "name": "python",
   "nbconvert_exporter": "python",
   "pygments_lexer": "ipython3",
   "version": "3.5.1"
  }
 },
 "nbformat": 4,
 "nbformat_minor": 2
}

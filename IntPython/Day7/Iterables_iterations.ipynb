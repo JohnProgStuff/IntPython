{
 "cells": [
  {
   "cell_type": "code",
   "execution_count": 4,
   "metadata": {},
   "outputs": [
    {
     "data": {
      "text/plain": [
       "[[],\n",
       " [0],\n",
       " [0, 3],\n",
       " [0, 3, 6],\n",
       " [0, 3, 6, 9],\n",
       " [0, 3, 6, 9, 12],\n",
       " [0, 3, 6, 9, 12, 15],\n",
       " [0, 3, 6, 9, 12, 15, 18],\n",
       " [0, 3, 6, 9, 12, 15, 18, 21],\n",
       " [0, 3, 6, 9, 12, 15, 18, 21, 24]]"
      ]
     },
     "execution_count": 4,
     "metadata": {},
     "output_type": "execute_result"
    }
   ],
   "source": [
    "#Rather than producint a flat list, this produces a list of lists\n",
    "vals = [[y * 3 for y in range(x)] for x in range(10) ]\n",
    "vals"
   ]
  },
  {
   "cell_type": "code",
   "execution_count": 2,
   "metadata": {},
   "outputs": [
    {
     "name": "stdout",
     "output_type": "stream",
     "text": [
      "[[], [0], [0, 3], [0, 3, 6], [0, 3, 6, 9], [0, 3, 6, 9, 12], [0, 3, 6, 9, 12, 15], [0, 3, 6, 9, 12, 15, 18], [0, 3, 6, 9, 12, 15, 18, 21], [0, 3, 6, 9, 12, 15, 18, 21, 24]]\n"
     ]
    }
   ],
   "source": [
    "# Equivalent loop\n",
    "outer = []\n",
    "for x in range(10):\n",
    "    inner = []\n",
    "    for y in range(x):\n",
    "        inner.append(y*3)\n",
    "    outer.append(inner)\n",
    "print(outer)"
   ]
  },
  {
   "cell_type": "code",
   "execution_count": 5,
   "metadata": {},
   "outputs": [
    {
     "data": {
      "text/plain": [
       "True"
      ]
     },
     "execution_count": 5,
     "metadata": {},
     "output_type": "execute_result"
    }
   ],
   "source": [
    "vals == outer"
   ]
  },
  {
   "cell_type": "markdown",
   "metadata": {},
   "source": [
    "This is similar, but different from multi-sequence comprehensions, both forms involved more than one iterator loop, the structure they produce are different\n",
    "## all comprehensions nest in the sma way\n",
    "\n",
    "For example: You can create a set comprehension to create a generator version of the triangle coordinates we constructed earlier"
   ]
  },
  {
   "cell_type": "code",
   "execution_count": 6,
   "metadata": {},
   "outputs": [
    {
     "data": {
      "text/plain": [
       "{0, 1, 2, 3, 4, 6, 8, 9, 12, 16}"
      ]
     },
     "execution_count": 6,
     "metadata": {},
     "output_type": "execute_result"
    }
   ],
   "source": [
    "{x * y for x in range(5) for y in range(5)}"
   ]
  },
  {
   "cell_type": "code",
   "execution_count": 9,
   "metadata": {},
   "outputs": [
    {
     "name": "stdout",
     "output_type": "stream",
     "text": [
      "<generator object <genexpr> at 0x000001EC5AA84A98>\n",
      "[(0, 0), (0, 1), (0, 2), (0, 3), (0, 4), (1, 0), (1, 1), (1, 2), (1, 3), (1, 4), (2, 0), (2, 1), (2, 2), (2, 3), (2, 4), (3, 0), (3, 1), (3, 2), (3, 3), (3, 4), (4, 0), (4, 1), (4, 2), (4, 3), (4, 4)]\n"
     ]
    }
   ],
   "source": [
    "# or a generator version\n",
    "g = ((x,y) for x in range(5) for y in range(5))\n",
    "print(g)\n",
    "print(list(g))"
   ]
  },
  {
   "cell_type": "markdown",
   "metadata": {},
   "source": [
    "## The map() Function\n",
    "\n",
    "The concept of **iteration and iterables** is very abstract in Python. It is the idea of a sequence of elements that can be accessed one at a time inorder.\n",
    "\n",
    "This level of abstraction allows us to develop tools that work on iterables on an equally high level.\n",
    "\n",
    "Python provides a number of functions called **building-block functions** that serve as simple building blocks for combining working iterables in sophisticated ways.\n",
    " - Many of the ideas come from **functional-programming** community\n",
    " - Sometimes called **Functional-Style** Python\n",
    " \n",
    "The **map()** is one of the most popular ones:<br>\n",
    "\n",
    "Apply a function to every element in a sequence, producing a new sequence containing the return values of the function\n"
   ]
  },
  {
   "cell_type": "code",
   "execution_count": 14,
   "metadata": {},
   "outputs": [
    {
     "data": {
      "text/plain": [
       "<map at 0x1ec5aaa4048>"
      ]
     },
     "execution_count": 14,
     "metadata": {},
     "output_type": "execute_result"
    }
   ],
   "source": [
    "# The map() built-in function\n",
    "# help(map)\n",
    "# Find the Unicode codepoints for each character in a string\n",
    "map(ord, \"The purple Weber State.\")"
   ]
  },
  {
   "cell_type": "markdown",
   "metadata": {},
   "source": [
    "**map()** is **lazy**. It only produces values as they are **needed**. It produces an iterator object, so when you begin iterating over it, it starts producing the output."
   ]
  },
  {
   "cell_type": "code",
   "execution_count": 17,
   "metadata": {},
   "outputs": [],
   "source": [
    "class Trace:\n",
    "    def __init__(self):\n",
    "        self.enable = True\n",
    "        \n",
    "    def __call__(self):\n",
    "        def wrap(*args, **kwargs):\n",
    "            if self.enable:\n",
    "                print(\"calling {}\".format(f))\n",
    "            return f(*args, **kwargs)\n",
    "        return wrap\n",
    "    "
   ]
  },
  {
   "cell_type": "markdown",
   "metadata": {},
   "source": [
    "Task (in Pycharm): We will not use Trace as decorator, but instead we can call a trace instance to get a callable that does the tracing for us.\n",
    "\n",
    "Now, try it with **map()** function."
   ]
  },
  {
   "cell_type": "code",
   "execution_count": 18,
   "metadata": {},
   "outputs": [
    {
     "data": {
      "text/plain": [
       "<map at 0x1ec5aab4668>"
      ]
     },
     "execution_count": 18,
     "metadata": {},
     "output_type": "execute_result"
    }
   ],
   "source": [
    "result = map(ord, \"The purple Weber State\")\n",
    "result"
   ]
  },
  {
   "cell_type": "code",
   "execution_count": 21,
   "metadata": {},
   "outputs": [
    {
     "data": {
      "text/plain": [
       "84"
      ]
     },
     "execution_count": 21,
     "metadata": {},
     "output_type": "execute_result"
    }
   ],
   "source": [
    "# We need to start iterating\n",
    "next(result)"
   ]
  },
  {
   "cell_type": "code",
   "execution_count": 22,
   "metadata": {},
   "outputs": [
    {
     "data": {
      "text/plain": [
       "104"
      ]
     },
     "execution_count": 22,
     "metadata": {},
     "output_type": "execute_result"
    }
   ],
   "source": [
    "next(result)"
   ]
  },
  {
   "cell_type": "code",
   "execution_count": 24,
   "metadata": {},
   "outputs": [
    {
     "data": {
      "text/plain": [
       "[84,\n",
       " 104,\n",
       " 101,\n",
       " 32,\n",
       " 112,\n",
       " 117,\n",
       " 114,\n",
       " 112,\n",
       " 108,\n",
       " 101,\n",
       " 32,\n",
       " 87,\n",
       " 101,\n",
       " 98,\n",
       " 101,\n",
       " 114,\n",
       " 32,\n",
       " 83,\n",
       " 116,\n",
       " 97,\n",
       " 116,\n",
       " 101]"
      ]
     },
     "execution_count": 24,
     "metadata": {},
     "output_type": "execute_result"
    }
   ],
   "source": [
    "result = map(ord, \"The purple Weber State\")\n",
    "g = list(result)\n",
    "g"
   ]
  },
  {
   "cell_type": "markdown",
   "metadata": {},
   "source": [
    "Note: the point is that map's lazy evaluation requires you to iterate over its return value inorder to produce the output.\n"
   ]
  },
  {
   "cell_type": "markdown",
   "metadata": {},
   "source": [
    "## Multiple Input Sequences\n",
    "**map()** can accept **any number** of input sequences if the function passed to map requires the same number of arguments. So if the function requires two, you pass two input sequences.<br> \n",
    "**The number of input sequenes, MUST match the number of functional arguments**"
   ]
  },
  {
   "cell_type": "code",
   "execution_count": 25,
   "metadata": {},
   "outputs": [
    {
     "data": {
      "text/plain": [
       "['small purple koala', 'medium white bird', 'large red snake']"
      ]
     },
     "execution_count": 25,
     "metadata": {},
     "output_type": "execute_result"
    }
   ],
   "source": [
    "sizes = [\"small\", \"medium\", \"large\"]\n",
    "colors = [\"purple\", \"white\", \"red\"]\n",
    "animals = [\"koala\", \"bird\", \"snake\"]\n",
    "\n",
    "def combine(size, color, animal):\n",
    "    return \"{0} {1} {2}\".format(size, color, animal)\n",
    "\n",
    "#create a list\n",
    "list(map(combine, sizes, colors, animals))"
   ]
  },
  {
   "cell_type": "markdown",
   "metadata": {},
   "source": [
    "Note: if you do not have equal sequences, map() will end as soon as it reaches the end of the shortest sequence."
   ]
  },
  {
   "cell_type": "code",
   "execution_count": 28,
   "metadata": {},
   "outputs": [
    {
     "data": {
      "text/plain": [
       "['0 x small purple koala', '1 x medium white bird', '2 x large red snake']"
      ]
     },
     "execution_count": 28,
     "metadata": {},
     "output_type": "execute_result"
    }
   ],
   "source": [
    "import itertools # itertools.count() is an infinite series\n",
    "\n",
    "sizes = [\"small\", \"medium\", \"large\"]\n",
    "colors = [\"purple\", \"white\", \"red\"]\n",
    "animals = [\"koala\", \"bird\", \"snake\"]\n",
    "\n",
    "def combine(quantity, size, color, animal):\n",
    "    return \"{0} x {1} {2} {3}\".format(quantity, size, color, animal)\n",
    "\n",
    "# Now pass an infinite series. It will stop as soon as one of the series terminates\n",
    "# create a list\n",
    "list(map(combine, itertools.count(), sizes, colors, animals))"
   ]
  },
  {
   "cell_type": "markdown",
   "metadata": {},
   "source": [
    "# Map() vs Comprehension\n",
    "\n",
    "They produce similar output"
   ]
  },
  {
   "cell_type": "code",
   "execution_count": 29,
   "metadata": {},
   "outputs": [
    {
     "data": {
      "text/plain": [
       "['0', '1', '2', '3', '4']"
      ]
     },
     "execution_count": 29,
     "metadata": {},
     "output_type": "execute_result"
    }
   ],
   "source": [
    "[str(i) for i in range(5)]"
   ]
  },
  {
   "cell_type": "code",
   "execution_count": 30,
   "metadata": {},
   "outputs": [
    {
     "data": {
      "text/plain": [
       "['0', '1', '2', '3', '4']"
      ]
     },
     "execution_count": 30,
     "metadata": {},
     "output_type": "execute_result"
    }
   ],
   "source": [
    "list(map(str, range(5)))"
   ]
  },
  {
   "cell_type": "markdown",
   "metadata": {},
   "source": [
    "Same with this generator expression and map()"
   ]
  },
  {
   "cell_type": "code",
   "execution_count": 31,
   "metadata": {},
   "outputs": [
    {
     "data": {
      "text/plain": [
       "['0', '1', '2', '3', '4']"
      ]
     },
     "execution_count": 31,
     "metadata": {},
     "output_type": "execute_result"
    }
   ],
   "source": [
    "i = (str(i) for i in range(5))\n",
    "list(i)"
   ]
  },
  {
   "cell_type": "code",
   "execution_count": 33,
   "metadata": {},
   "outputs": [
    {
     "data": {
      "text/plain": [
       "['0', '1', '2', '3', '4']"
      ]
     },
     "execution_count": 33,
     "metadata": {},
     "output_type": "execute_result"
    }
   ],
   "source": [
    "i = map(str, range(5))\n",
    "list(i)"
   ]
  },
  {
   "cell_type": "markdown",
   "metadata": {},
   "source": [
    "If both approaches work, there is \"no better\" way of doing it. Some people argue the Comprehension is cleaner.\n"
   ]
  },
  {
   "cell_type": "markdown",
   "metadata": {},
   "source": [
    "## The filter() function\n",
    "filter() apply a function to each element in a sequence, constructing a new sequence with the elements for which the function returns **True**. <br>\n",
    "So like **map()**, **filter()** applies the function to each element of a sequence and produces the result in **lazy** mode. <br>\n",
    "Unlike **map()**, **filter()** only accepts a **single** input sequence, and the function it takes only **one argument**."
   ]
  },
  {
   "cell_type": "code",
   "execution_count": 34,
   "metadata": {},
   "outputs": [
    {
     "name": "stdout",
     "output_type": "stream",
     "text": [
      "<filter object at 0x000001EC5AAC0358>\n",
      "[1, 0, 8]\n"
     ]
    }
   ],
   "source": [
    "# filter positive numbers\n",
    "positives = filter(lambda x: x >= 0, [1, -4, 0, -99, 8])\n",
    "print(positives)\n",
    "print(list(positives))"
   ]
  },
  {
   "cell_type": "markdown",
   "metadata": {},
   "source": [
    "Passing **None** as the first to filter() will remove elements which evaluate to **False**"
   ]
  },
  {
   "cell_type": "code",
   "execution_count": 35,
   "metadata": {},
   "outputs": [
    {
     "data": {
      "text/plain": [
       "[1, True, [1, 2], 'Weber']"
      ]
     },
     "execution_count": 35,
     "metadata": {},
     "output_type": "execute_result"
    }
   ],
   "source": [
    "trues = filter(None, [0, 1, False, True, [], [1, 2], \"\", \"Weber\"])\n",
    "list(trues)"
   ]
  },
  {
   "cell_type": "markdown",
   "metadata": {},
   "source": [
    "## The functools.reduce() Function\n",
    "Repeatedly applies a function to the elements of a sequence, reducing them to a single value. Similar to:\n",
    " - Functional-programming **fold**\n",
    " - LINQ **aggregate()**\n",
    " - C++ **std::accumulate()**"
   ]
  },
  {
   "cell_type": "code",
   "execution_count": 36,
   "metadata": {},
   "outputs": [
    {
     "data": {
      "text/plain": [
       "15"
      ]
     },
     "execution_count": 36,
     "metadata": {},
     "output_type": "execute_result"
    }
   ],
   "source": [
    "# the sumation of a sequence\n",
    "from functools import reduce\n",
    "import operator\n",
    "# the operator module contains functions equivalent to inflix operators\n",
    "# a + b is equivalent to operators.add(a,b)\n",
    "\n",
    "reduce(operator.add, [1,2,3,4,5])"
   ]
  },
  {
   "cell_type": "code",
   "execution_count": 38,
   "metadata": {},
   "outputs": [
    {
     "name": "stdout",
     "output_type": "stream",
     "text": [
      "15\n"
     ]
    }
   ],
   "source": [
    "# Conceptually this is what is happening\n",
    "numbers = [1, 2, 3, 4, 5]\n",
    "accumulator = operator.add(numbers[0], numbers[1])\n",
    "for item in numbers[2:]:\n",
    "    accumulator = operator.add(accumulator, item)\n",
    "    \n",
    "print(accumulator)"
   ]
  },
  {
   "cell_type": "code",
   "execution_count": null,
   "metadata": {
    "collapsed": true
   },
   "outputs": [],
   "source": []
  }
 ],
 "metadata": {
  "kernelspec": {
   "display_name": "Python 3",
   "language": "python",
   "name": "python3"
  },
  "language_info": {
   "codemirror_mode": {
    "name": "ipython",
    "version": 3
   },
   "file_extension": ".py",
   "mimetype": "text/x-python",
   "name": "python",
   "nbconvert_exporter": "python",
   "pygments_lexer": "ipython3",
   "version": "3.5.1"
  }
 },
 "nbformat": 4,
 "nbformat_minor": 2
}

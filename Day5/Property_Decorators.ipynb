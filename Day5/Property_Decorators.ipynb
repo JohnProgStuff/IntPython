{
 "cells": [
  {
   "cell_type": "markdown",
   "metadata": {},
   "source": [
    "# Property Decorators\n",
    "\n",
    "Allow us to decorate a method that will be accessible like an attribute."
   ]
  },
  {
   "cell_type": "code",
   "execution_count": 1,
   "metadata": {
    "collapsed": true
   },
   "outputs": [],
   "source": [
    "class Employee:\n",
    "    def __init__(self, first, last):\n",
    "        self.first = first\n",
    "        self.last = last\n",
    "        self.email = first + \".\" + last + \"@weber.edu\"\n",
    "    \n",
    "    def fullname(self):\n",
    "        return \"{} {}\".format(self.first, self.last)\n",
    "    "
   ]
  },
  {
   "cell_type": "code",
   "execution_count": 2,
   "metadata": {},
   "outputs": [
    {
     "name": "stdout",
     "output_type": "stream",
     "text": [
      "John\n",
      "John.Garcia@weber.edu\n"
     ]
    }
   ],
   "source": [
    "#Test it\n",
    "emp1 = Employee(\"John\", \"Garcia\")\n",
    "print(emp1.first)\n",
    "print(emp1.email)"
   ]
  },
  {
   "cell_type": "markdown",
   "metadata": {},
   "source": [
    "Change some of the attributes"
   ]
  },
  {
   "cell_type": "code",
   "execution_count": 4,
   "metadata": {},
   "outputs": [
    {
     "name": "stdout",
     "output_type": "stream",
     "text": [
      "Mario\n",
      "John.Garcia@weber.edu\n"
     ]
    }
   ],
   "source": [
    "emp1.first = \"Mario\"\n",
    "print(emp1.first)\n",
    "print(emp1.email)"
   ]
  },
  {
   "cell_type": "markdown",
   "metadata": {},
   "source": [
    "We want a way to automatically update the email.<br>\n",
    "Create a method like **fullname()**\n",
    "\n",
    "Problem: people who are already using it, it will break their code.\n",
    "They will need to change their **email attribute** to an **email method**\n",
    "\n",
    "Where C++ and Java programmers are happy. They have **setters** and **getters** options."
   ]
  },
  {
   "cell_type": "markdown",
   "metadata": {},
   "source": []
  },
  {
   "cell_type": "code",
   "execution_count": 14,
   "metadata": {
    "collapsed": true
   },
   "outputs": [],
   "source": [
    "class Employee:\n",
    "    def __init__(self, first, last):\n",
    "        self.first = first\n",
    "        self.last = last\n",
    "        \n",
    "    def email(self):\n",
    "        return \"{}.{}@weber.edu\".format(self.first, self.last)\n",
    "        \n",
    "    def fullname(self):\n",
    "        return \"{} {}\".format(self.first, self.last)\n",
    "    "
   ]
  },
  {
   "cell_type": "code",
   "execution_count": 15,
   "metadata": {},
   "outputs": [
    {
     "name": "stdout",
     "output_type": "stream",
     "text": [
      "John\n",
      "John.Garcia@weber.edu\n",
      "Mario\n",
      "Mario.Garcia@weber.edu\n"
     ]
    }
   ],
   "source": [
    "emp1 = Employee(\"John\",\"Garcia\")\n",
    "print(emp1.first)\n",
    "print(emp1.email()) # Has to have () now to retrieve email. This will break old code.\n",
    "\n",
    "emp1.first = \"Mario\"\n",
    "print(emp1.first)\n",
    "print(emp1.email())"
   ]
  },
  {
   "cell_type": "markdown",
   "metadata": {},
   "source": [
    "Change the behavior of this method, to that of an attribute"
   ]
  },
  {
   "cell_type": "code",
   "execution_count": 16,
   "metadata": {
    "collapsed": true
   },
   "outputs": [],
   "source": [
    "class Employee:\n",
    "    def __init__(self, first, last):\n",
    "        self.first = first\n",
    "        self.last = last\n",
    "    \n",
    "    @property\n",
    "    def email(self):\n",
    "        return \"{}.{}@weber.edu\".format(self.first, self.last)\n",
    "    \n",
    "    @property    \n",
    "    def fullname(self):\n",
    "        return \"{} {}\".format(self.first, self.last)\n",
    "    "
   ]
  },
  {
   "cell_type": "code",
   "execution_count": 17,
   "metadata": {},
   "outputs": [
    {
     "name": "stdout",
     "output_type": "stream",
     "text": [
      "John\n",
      "John.Garcia@weber.edu\n",
      "Mario\n",
      "Mario.Garcia@weber.edu\n"
     ]
    }
   ],
   "source": [
    "emp1 = Employee(\"John\",\"Garcia\")\n",
    "print(emp1.first)\n",
    "print(emp1.email)\n",
    "\n",
    "emp1.first = \"Mario\"\n",
    "print(emp1.first)\n",
    "print(emp1.email)"
   ]
  },
  {
   "cell_type": "markdown",
   "metadata": {},
   "source": [
    "### The above will give you getters"
   ]
  },
  {
   "cell_type": "markdown",
   "metadata": {},
   "source": [
    "#### Now try setters\n",
    "\n",
    "To set values, we need another decorator **@methodname.setter**\n",
    "ex: **@fullname.setter**"
   ]
  },
  {
   "cell_type": "code",
   "execution_count": 19,
   "metadata": {
    "collapsed": true
   },
   "outputs": [],
   "source": [
    "class Employee:\n",
    "    def __init__(self, first, last):\n",
    "        self.first = first\n",
    "        self.last = last\n",
    "    \n",
    "    @property\n",
    "    def email(self):\n",
    "        return \"{}.{}@weber.edu\".format(self.first, self.last)\n",
    "    \n",
    "    @property    \n",
    "    def fullname(self):\n",
    "        return \"{} {}\".format(self.first, self.last)\n",
    "    \n",
    "    @fullname.setter\n",
    "    def fullname(self, name):\n",
    "        first, last = name.split(' ')\n",
    "        self.first = first\n",
    "        self.last = last"
   ]
  },
  {
   "cell_type": "code",
   "execution_count": 22,
   "metadata": {},
   "outputs": [
    {
     "name": "stdout",
     "output_type": "stream",
     "text": [
      "John\n",
      "John.Garcia@weber.edu\n",
      "John Garcia\n",
      "Mario Smith\n",
      "Mario\n",
      "Mario.Smith@weber.edu\n"
     ]
    }
   ],
   "source": [
    "emp1 = Employee(\"John\",\"Garcia\")\n",
    "print(emp1.first)\n",
    "print(emp1.email)\n",
    "print(emp1.fullname)\n",
    "\n",
    "emp1.fullname = \"Mario Smith\"\n",
    "print(emp1.fullname)\n",
    "print(emp1.first)\n",
    "print(emp1.email)"
   ]
  },
  {
   "cell_type": "markdown",
   "metadata": {},
   "source": [
    "### Deleters\n",
    "To do some clean up. not as common."
   ]
  },
  {
   "cell_type": "code",
   "execution_count": 24,
   "metadata": {},
   "outputs": [],
   "source": [
    "class Employee:\n",
    "    def __init__(self, first, last):\n",
    "        self.first = first\n",
    "        self.last = last\n",
    "    \n",
    "    @property\n",
    "    def email(self):\n",
    "        return \"{}.{}@weber.edu\".format(self.first, self.last)\n",
    "    \n",
    "    @property    \n",
    "    def fullname(self):\n",
    "        return \"{} {}\".format(self.first, self.last)\n",
    "    \n",
    "    @fullname.setter\n",
    "    def fullname(self, name):\n",
    "        first, last = name.split(' ')\n",
    "        self.first = first\n",
    "        self.last = last\n",
    "    \n",
    "    @fullname.deleter\n",
    "    def fullname(self):\n",
    "        print(\"Delete name\")\n",
    "        self.first = None\n",
    "        self.last = None\n",
    "        #class item is still created, the values are erased.\n",
    "        "
   ]
  },
  {
   "cell_type": "code",
   "execution_count": 26,
   "metadata": {},
   "outputs": [
    {
     "name": "stdout",
     "output_type": "stream",
     "text": [
      "John\n",
      "John.Garcia@weber.edu\n",
      "John Garcia\n",
      "Mario Smith\n",
      "Mario\n",
      "Mario.Smith@weber.edu\n",
      "Delete name\n",
      "None\n",
      "None.None@weber.edu\n",
      "None None\n"
     ]
    }
   ],
   "source": [
    "emp1 = Employee(\"John\",\"Garcia\")\n",
    "print(emp1.first)\n",
    "print(emp1.email)\n",
    "print(emp1.fullname)\n",
    "\n",
    "emp1.fullname = \"Mario Smith\"\n",
    "print(emp1.fullname)\n",
    "print(emp1.first)\n",
    "print(emp1.email)\n",
    "del emp1.fullname\n",
    "print(emp1.first)\n",
    "print(emp1.email)\n",
    "print(emp1.fullname)"
   ]
  },
  {
   "cell_type": "code",
   "execution_count": 30,
   "metadata": {},
   "outputs": [
    {
     "data": {
      "text/plain": [
       "<__main__.Employee at 0x19b71dab160>"
      ]
     },
     "execution_count": 30,
     "metadata": {},
     "output_type": "execute_result"
    }
   ],
   "source": []
  },
  {
   "cell_type": "code",
   "execution_count": null,
   "metadata": {
    "collapsed": true
   },
   "outputs": [],
   "source": []
  }
 ],
 "metadata": {
  "kernelspec": {
   "display_name": "Python 3",
   "language": "python",
   "name": "python3"
  },
  "language_info": {
   "codemirror_mode": {
    "name": "ipython",
    "version": 3
   },
   "file_extension": ".py",
   "mimetype": "text/x-python",
   "name": "python",
   "nbconvert_exporter": "python",
   "pygments_lexer": "ipython3",
   "version": "3.5.1"
  }
 },
 "nbformat": 4,
 "nbformat_minor": 2
}
